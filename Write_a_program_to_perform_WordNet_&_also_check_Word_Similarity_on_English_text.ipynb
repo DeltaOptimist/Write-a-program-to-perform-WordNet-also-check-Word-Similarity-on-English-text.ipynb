{
  "nbformat": 4,
  "nbformat_minor": 0,
  "metadata": {
    "colab": {
      "name": "Write a program to perform WordNet & also check Word Similarity on English text.ipynb",
      "provenance": [],
      "collapsed_sections": []
    },
    "kernelspec": {
      "name": "python3",
      "display_name": "Python 3"
    },
    "language_info": {
      "name": "python"
    }
  },
  "cells": [
    {
      "cell_type": "markdown",
      "metadata": {
        "id": "9fGTyuGJA6IT"
      },
      "source": [
        "# WordNet"
      ]
    },
    {
      "cell_type": "code",
      "metadata": {
        "colab": {
          "base_uri": "https://localhost:8080/"
        },
        "id": "tMdXy8fvBGK6",
        "outputId": "6e032c96-5974-48b5-e358-edfb336f564b"
      },
      "source": [
        "import nltk\n",
        "nltk.download('wordnet')"
      ],
      "execution_count": 3,
      "outputs": [
        {
          "output_type": "stream",
          "text": [
            "[nltk_data] Downloading package wordnet to /root/nltk_data...\n",
            "[nltk_data]   Unzipping corpora/wordnet.zip.\n"
          ],
          "name": "stdout"
        },
        {
          "output_type": "execute_result",
          "data": {
            "text/plain": [
              "True"
            ]
          },
          "metadata": {
            "tags": []
          },
          "execution_count": 3
        }
      ]
    },
    {
      "cell_type": "code",
      "metadata": {
        "id": "ON6rBUBsA8JN"
      },
      "source": [
        "# Importing the Libraries\n",
        "from nltk.corpus import wordnet"
      ],
      "execution_count": 4,
      "outputs": []
    },
    {
      "cell_type": "code",
      "metadata": {
        "colab": {
          "base_uri": "https://localhost:8080/"
        },
        "id": "2ne6FOuYA9tB",
        "outputId": "1f915bef-3bad-45a7-c7ad-d95a6117d095"
      },
      "source": [
        "# Getting the set of Synonyms\n",
        "syns = wordnet.synsets(\"program\")\n",
        "print(syns)\n",
        "print(syns[0])"
      ],
      "execution_count": 5,
      "outputs": [
        {
          "output_type": "stream",
          "text": [
            "[Synset('plan.n.01'), Synset('program.n.02'), Synset('broadcast.n.02'), Synset('platform.n.02'), Synset('program.n.05'), Synset('course_of_study.n.01'), Synset('program.n.07'), Synset('program.n.08'), Synset('program.v.01'), Synset('program.v.02')]\n",
            "Synset('plan.n.01')\n"
          ],
          "name": "stdout"
        }
      ]
    },
    {
      "cell_type": "code",
      "metadata": {
        "colab": {
          "base_uri": "https://localhost:8080/"
        },
        "id": "F4TVpCpABBHp",
        "outputId": "683337b2-ef0f-46c7-bc05-6f8e19b5d7ea"
      },
      "source": [
        "# Getting the Lemma's\n",
        "print(syns[0].lemmas())\n",
        "print(syns[0].lemmas()[0].name())"
      ],
      "execution_count": 6,
      "outputs": [
        {
          "output_type": "stream",
          "text": [
            "[Lemma('plan.n.01.plan'), Lemma('plan.n.01.program'), Lemma('plan.n.01.programme')]\n",
            "plan\n"
          ],
          "name": "stdout"
        }
      ]
    },
    {
      "cell_type": "code",
      "metadata": {
        "colab": {
          "base_uri": "https://localhost:8080/"
        },
        "id": "SOkdo8b8BBfC",
        "outputId": "f166e703-2516-454a-89be-a96fd738c874"
      },
      "source": [
        "# Getting the Definitions\n",
        "print(syns[0].definition())"
      ],
      "execution_count": 7,
      "outputs": [
        {
          "output_type": "stream",
          "text": [
            "a series of steps to be carried out or goals to be accomplished\n"
          ],
          "name": "stdout"
        }
      ]
    },
    {
      "cell_type": "code",
      "metadata": {
        "colab": {
          "base_uri": "https://localhost:8080/"
        },
        "id": "uC80G0HaBOJb",
        "outputId": "065e7625-42a6-41bc-e8d8-9740b82a58ce"
      },
      "source": [
        "# Getting the Examples\n",
        "print(syns[0].examples())"
      ],
      "execution_count": 8,
      "outputs": [
        {
          "output_type": "stream",
          "text": [
            "['they drew up a six-step plan', 'they discussed plans for a new bond issue']\n"
          ],
          "name": "stdout"
        }
      ]
    },
    {
      "cell_type": "code",
      "metadata": {
        "colab": {
          "base_uri": "https://localhost:8080/"
        },
        "id": "gMhYTLWVBO5L",
        "outputId": "39ac352a-edb6-4427-c532-159a7fff806a"
      },
      "source": [
        "# Getting the Antonyms\n",
        "synonyms = []\n",
        "antonyms = []\n",
        "\n",
        "for syn in wordnet.synsets(\"good\"):\n",
        "    for l in syn.lemmas():\n",
        "        synonyms.append(l.name())\n",
        "        if l.antonyms():\n",
        "            antonyms.append(l.antonyms()[0].name())\n",
        "\n",
        "print(\"Synonyms:\", (set(synonyms)))\n",
        "print(\"Antonyms:\", (set(antonyms)))"
      ],
      "execution_count": 13,
      "outputs": [
        {
          "output_type": "stream",
          "text": [
            "Synonyms: {'skilful', 'honorable', 'dear', 'adept', 'trade_good', 'sound', 'thoroughly', 'beneficial', 'skillful', 'effective', 'goodness', 'dependable', 'near', 'secure', 'upright', 'salutary', 'undecomposed', 'right', 'unspoiled', 'full', 'soundly', 'unspoilt', 'proficient', 'serious', 'just', 'expert', 'commodity', 'practiced', 'in_effect', 'safe', 'estimable', 'well', 'good', 'ripe', 'respectable', 'in_force', 'honest'}\n",
            "Antonyms: {'evil', 'ill', 'evilness', 'badness', 'bad'}\n"
          ],
          "name": "stdout"
        }
      ]
    },
    {
      "cell_type": "markdown",
      "metadata": {
        "id": "-cKQh4DSFsCC"
      },
      "source": [
        "# check Word Similarity using English WordNet"
      ]
    },
    {
      "cell_type": "code",
      "metadata": {
        "id": "C6Blm7IgBRlh"
      },
      "source": [
        "\n",
        "from nltk.corpus import wordnet as wn"
      ],
      "execution_count": 14,
      "outputs": []
    },
    {
      "cell_type": "code",
      "metadata": {
        "colab": {
          "base_uri": "https://localhost:8080/"
        },
        "id": "PLAC7_TDF3Pg",
        "outputId": "f6201ef2-d6dd-4610-8eac-92ecab652f9f"
      },
      "source": [
        "# Let us calculate this metric of similarity between words\n",
        "# \"car\" and \"automobile\".\n",
        "# First, define the synsets for these terms:\n",
        "car = wn.synset('car.n.01')\n",
        "automobile = wn.synset('automobile.n.01')\n",
        "\n",
        "print(\"Similarity between car and automobile\",car.path_similarity(automobile))"
      ],
      "execution_count": 17,
      "outputs": [
        {
          "output_type": "stream",
          "text": [
            "Similarity between car and automobile 1.0\n"
          ],
          "name": "stdout"
        }
      ]
    },
    {
      "cell_type": "markdown",
      "metadata": {
        "id": "HvohVSzbGVA7"
      },
      "source": [
        " We see that \"car\" and \"automobile\" have the highest similarity possible, with a score of 1.0.\n",
        "\n",
        " This makes sense, since if we print out the synsets of \"car\", we see that\n",
        " one of the synonyms is indeed \"automobile\"."
      ]
    },
    {
      "cell_type": "code",
      "metadata": {
        "colab": {
          "base_uri": "https://localhost:8080/"
        },
        "id": "LQl3eBS_F9Jb",
        "outputId": "94b7dc86-3080-48dd-9ee3-7b00072b8994"
      },
      "source": [
        "# Let us now take a look at the term \"car\" and \"boat\":\n",
        "boat = wn.synset('boat.n.01')\n",
        "print(\"Similarity between car and boat\",car.path_similarity(boat))"
      ],
      "execution_count": 18,
      "outputs": [
        {
          "output_type": "stream",
          "text": [
            "Similarity between car and boat 0.125\n"
          ],
          "name": "stdout"
        }
      ]
    },
    {
      "cell_type": "markdown",
      "metadata": {
        "id": "efmI6goMHOwU"
      },
      "source": [
        "#Wu-Palmer Similarity\n",
        "\n",
        "Wu & Palmer’s similarity calculates similarity by considering the depths of the two synsets in the\n",
        "network, as well as where their most specific ancestor node (Least Common Subsumer (LCS)).\n"
      ]
    },
    {
      "cell_type": "markdown",
      "metadata": {
        "id": "ataGCxRaHppc"
      },
      "source": [
        "![image.png](data:image/png;base64,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)"
      ]
    },
    {
      "cell_type": "code",
      "metadata": {
        "colab": {
          "base_uri": "https://localhost:8080/"
        },
        "id": "o0ls_DBhGpfg",
        "outputId": "0c4d1647-33e1-4613-82c6-e2d5680951aa"
      },
      "source": [
        "run = wn.synset('run.v.01')\n",
        "sprint = wn.synset('sprint.v.01') \n",
        "print(\"Similarity between run and sprint\",run.wup_similarity(sprint)) "
      ],
      "execution_count": 20,
      "outputs": [
        {
          "output_type": "stream",
          "text": [
            "Similarity between run and sprint 0.8571428571428571\n"
          ],
          "name": "stdout"
        }
      ]
    },
    {
      "cell_type": "code",
      "metadata": {
        "colab": {
          "base_uri": "https://localhost:8080/"
        },
        "id": "rlZij90kGzzz",
        "outputId": "a47dade7-b45e-41e7-a96d-95523eefff4a"
      },
      "source": [
        "ship = wn.synset('ship.n.01') \n",
        "boat = wn.synset('boat.n.01')\n",
        "print(\"Similarity between ship and boat\",ship.wup_similarity(boat))"
      ],
      "execution_count": 21,
      "outputs": [
        {
          "output_type": "stream",
          "text": [
            "Similarity between ship and boat 0.9090909090909091\n"
          ],
          "name": "stdout"
        }
      ]
    },
    {
      "cell_type": "code",
      "metadata": {
        "colab": {
          "base_uri": "https://localhost:8080/"
        },
        "id": "bQmaTu2eG7IR",
        "outputId": "f09a540b-d299-4369-99d9-40b221de03e5"
      },
      "source": [
        "print(\"Similarity between ship and sprint\",ship.wup_similarity(sprint))\n",
        "print(\"Similarity between car and automobile\",car.wup_similarity(automobile))\n",
        "print(\"Similarity between car and boat\",car.wup_similarity(boat))\n",
        "print(\"Similarity between car and boat\",car.path_similarity(boat))"
      ],
      "execution_count": 22,
      "outputs": [
        {
          "output_type": "stream",
          "text": [
            "Similarity between ship and sprint None\n",
            "Similarity between car and automobile 1.0\n",
            "Similarity between car and boat 0.6956521739130435\n",
            "Similarity between car and boat 0.125\n"
          ],
          "name": "stdout"
        }
      ]
    },
    {
      "cell_type": "code",
      "metadata": {
        "id": "JsjuGyjNHBFh"
      },
      "source": [
        ""
      ],
      "execution_count": null,
      "outputs": []
    }
  ]
}